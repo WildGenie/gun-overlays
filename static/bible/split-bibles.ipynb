{
    "cells": [
        {
            "cell_type": "code",
            "execution_count": 12,
            "metadata": {},
            "outputs": [],
            "source": [
                "import orjson\n",
                "pwd = '~/projects/gun-overlays/bible/'"
            ]
        },
        {
            "cell_type": "code",
            "execution_count": 13,
            "metadata": {},
            "outputs": [],
            "source": [
                "with open(pwd+'/roh.json') as f:\n",
                "    data = orjson.loads(f.read())\n",
                "\n",
                "for book in data['books']:\n",
                "    with open(pwd+'/roh/'+book['abbreviation']+'.json', 'wb') as f:\n",
                "        f.write(orjson.dumps(book.pop('chapters'), option=orjson.OPT_INDENT_2))\n",
                "\n",
                "with open(pwd+'/roh/index.json', 'wb') as f:\n",
                "    f.write(orjson.dumps(data, option=orjson.OPT_INDENT_2))"
            ]
        },
        {
            "cell_type": "code",
            "execution_count": 15,
            "metadata": {},
            "outputs": [],
            "source": [
                "with open(pwd+'/seb.json') as f:\n",
                "    data = orjson.loads(f.read())\n",
                "\n",
                "for book in data['books']:\n",
                "    with open(pwd+'/seb/'+book['abbreviation']+'.json', 'wb') as f:\n",
                "        f.write(orjson.dumps(book.pop('chapters'), option=orjson.OPT_INDENT_2))\n",
                "\n",
                "with open(pwd+'/seb/index.json', 'wb') as f:\n",
                "    f.write(orjson.dumps(data, option=orjson.OPT_INDENT_2))"
            ]
        },
        {
            "cell_type": "markdown",
            "metadata": {},
            "source": [
                "# Scrape biblia.sk"
            ]
        },
        {
            "cell_type": "code",
            "execution_count": null,
            "metadata": {},
            "outputs": [],
            "source": [
                "import time\n",
                "import binascii\n",
                "import json\n",
                "import requests\n",
                "\n",
                "res = requests.get('https://biblia.sk/api/preklady')\n",
                "with open('preklady.json', 'wb') as f:\n",
                "    f.write(res.content)\n",
                "preklady = res.json()['data']\n",
                "preklad = preklady[2] # roh\n",
                "identifier = preklad['identifier']\n",
                "books = preklad['books']\n",
                "\n",
                "params = {\n",
                "    'timestamp': int(time.time()*1000),\n",
                "    'key': '597133743677397A24432646294A404E635166546A576E5A7234753778214125',\n",
                "}\n",
                "for i, book in enumerate(books):\n",
                "    chapters = {}\n",
                "    abbr = book['abbreviation']\n",
                "    for chapter in book['chapters']:\n",
                "        params['timestamp'] = int(time.time()*1000)\n",
                "        code = '|'.join([identifier, abbr, str(chapter)])\n",
                "        code = binascii.b2a_base64(code.encode()).strip().decode()\n",
                "        while True:\n",
                "            res = requests.get('https://biblia.sk/api/text/%s' % (code, ), params=params)\n",
                "            print(res.status_code, res.url)\n",
                "            if res.status_code == 429:\n",
                "                print('Too Many Requests, sleeping')\n",
                "                time.sleep(40)\n",
                "                continue\n",
                "            break\n",
                "        try:\n",
                "            text = res.json()\n",
                "        except Exception as e:\n",
                "            print(res.content)\n",
                "            raise e\n",
                "        chapters[chapter] = [v['content'] for v in text['data']]\n",
                "    book['chapters'] = chapters\n",
                "    print(chapters)\n",
                "\n",
                "with open(identifier+'.json', 'w') as f:\n",
                "    json.dump(preklad, f, indent=2)\n"
            ]
        }
    ],
    "metadata": {
        "interpreter": {
            "hash": "aee8b7b246df8f9039afb4144a1f6fd8d2ca17a180786b69acc140d282b71a49"
        },
        "kernelspec": {
            "display_name": "Python 3.9.6 64-bit",
            "name": "python3"
        },
        "language_info": {
            "codemirror_mode": {
                "name": "ipython",
                "version": 3
            },
            "file_extension": ".py",
            "mimetype": "text/x-python",
            "name": "python",
            "nbconvert_exporter": "python",
            "pygments_lexer": "ipython3",
            "version": "3.9.6"
        },
        "orig_nbformat": 4
    },
    "nbformat": 4,
    "nbformat_minor": 2
}
